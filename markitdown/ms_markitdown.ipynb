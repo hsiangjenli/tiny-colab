{
 "cells": [
  {
   "cell_type": "code",
   "execution_count": 1,
   "metadata": {},
   "outputs": [
    {
     "name": "stdout",
     "output_type": "stream",
     "text": [
      "Collecting git+https://github.com/microsoft/markitdown.git\n",
      "  Cloning https://github.com/microsoft/markitdown.git to /private/var/folders/lv/fz_bmnxn28jdz8y01sb5b1z00000gn/T/pip-req-build-1u_7krdi\n",
      "  Running command git clone --filter=blob:none --quiet https://github.com/microsoft/markitdown.git /private/var/folders/lv/fz_bmnxn28jdz8y01sb5b1z00000gn/T/pip-req-build-1u_7krdi\n",
      "  Resolved https://github.com/microsoft/markitdown.git to commit b40139652ba6fda4da8f3bfd781e0b775247cb1e\n",
      "  Installing build dependencies ... \u001b[?25ldone\n",
      "\u001b[?25h  Getting requirements to build wheel ... \u001b[?25ldone\n",
      "\u001b[?25h  Preparing metadata (pyproject.toml) ... \u001b[?25ldone\n",
      "\u001b[?25hRequirement already satisfied: beautifulsoup4 in /Users/hsiangjenli/miniconda3/lib/python3.11/site-packages (from markitdown==0.0.1a1) (4.12.2)\n",
      "Collecting mammoth (from markitdown==0.0.1a1)\n",
      "  Downloading mammoth-1.8.0-py2.py3-none-any.whl.metadata (24 kB)\n",
      "Collecting markdownify (from markitdown==0.0.1a1)\n",
      "  Downloading markdownify-0.14.1-py3-none-any.whl.metadata (8.5 kB)\n",
      "Requirement already satisfied: numpy in /Users/hsiangjenli/miniconda3/lib/python3.11/site-packages (from markitdown==0.0.1a1) (1.25.2)\n",
      "Requirement already satisfied: openpyxl in /Users/hsiangjenli/miniconda3/lib/python3.11/site-packages (from markitdown==0.0.1a1) (3.1.2)\n",
      "Requirement already satisfied: pandas in /Users/hsiangjenli/miniconda3/lib/python3.11/site-packages (from markitdown==0.0.1a1) (1.5.3)\n",
      "Collecting pathvalidate (from markitdown==0.0.1a1)\n",
      "  Downloading pathvalidate-3.2.1-py3-none-any.whl.metadata (12 kB)\n",
      "Requirement already satisfied: pdfminer-six in /Users/hsiangjenli/miniconda3/lib/python3.11/site-packages (from markitdown==0.0.1a1) (20231228)\n",
      "Collecting puremagic (from markitdown==0.0.1a1)\n",
      "  Downloading puremagic-1.28-py3-none-any.whl.metadata (5.8 kB)\n",
      "Collecting pydub (from markitdown==0.0.1a1)\n",
      "  Downloading pydub-0.25.1-py2.py3-none-any.whl.metadata (1.4 kB)\n",
      "Requirement already satisfied: python-pptx in /Users/hsiangjenli/miniconda3/lib/python3.11/site-packages (from markitdown==0.0.1a1) (0.6.23)\n",
      "Requirement already satisfied: requests in /Users/hsiangjenli/miniconda3/lib/python3.11/site-packages (from markitdown==0.0.1a1) (2.32.3)\n",
      "Collecting speechrecognition (from markitdown==0.0.1a1)\n",
      "  Downloading SpeechRecognition-3.12.0-py3-none-any.whl.metadata (30 kB)\n",
      "Collecting youtube-transcript-api (from markitdown==0.0.1a1)\n",
      "  Downloading youtube_transcript_api-0.6.3-py3-none-any.whl.metadata (17 kB)\n",
      "Requirement already satisfied: soupsieve>1.2 in /Users/hsiangjenli/miniconda3/lib/python3.11/site-packages (from beautifulsoup4->markitdown==0.0.1a1) (2.5)\n",
      "Collecting cobble<0.2,>=0.1.3 (from mammoth->markitdown==0.0.1a1)\n",
      "  Downloading cobble-0.1.4-py3-none-any.whl.metadata (2.7 kB)\n",
      "Requirement already satisfied: six<2,>=1.15 in /Users/hsiangjenli/miniconda3/lib/python3.11/site-packages (from markdownify->markitdown==0.0.1a1) (1.16.0)\n",
      "Requirement already satisfied: et-xmlfile in /Users/hsiangjenli/miniconda3/lib/python3.11/site-packages (from openpyxl->markitdown==0.0.1a1) (1.1.0)\n",
      "Requirement already satisfied: python-dateutil>=2.8.1 in /Users/hsiangjenli/miniconda3/lib/python3.11/site-packages (from pandas->markitdown==0.0.1a1) (2.8.2)\n",
      "Requirement already satisfied: pytz>=2020.1 in /Users/hsiangjenli/miniconda3/lib/python3.11/site-packages (from pandas->markitdown==0.0.1a1) (2023.3)\n",
      "Requirement already satisfied: charset-normalizer>=2.0.0 in /Users/hsiangjenli/miniconda3/lib/python3.11/site-packages (from pdfminer-six->markitdown==0.0.1a1) (2.0.4)\n",
      "Requirement already satisfied: cryptography>=36.0.0 in /Users/hsiangjenli/miniconda3/lib/python3.11/site-packages (from pdfminer-six->markitdown==0.0.1a1) (42.0.8)\n",
      "Requirement already satisfied: lxml>=3.1.0 in /Users/hsiangjenli/miniconda3/lib/python3.11/site-packages (from python-pptx->markitdown==0.0.1a1) (4.9.3)\n",
      "Requirement already satisfied: Pillow>=3.3.2 in /Users/hsiangjenli/miniconda3/lib/python3.11/site-packages (from python-pptx->markitdown==0.0.1a1) (10.0.1)\n",
      "Requirement already satisfied: XlsxWriter>=0.5.7 in /Users/hsiangjenli/miniconda3/lib/python3.11/site-packages (from python-pptx->markitdown==0.0.1a1) (3.2.0)\n",
      "Requirement already satisfied: idna<4,>=2.5 in /Users/hsiangjenli/miniconda3/lib/python3.11/site-packages (from requests->markitdown==0.0.1a1) (3.4)\n",
      "Requirement already satisfied: urllib3<3,>=1.21.1 in /Users/hsiangjenli/miniconda3/lib/python3.11/site-packages (from requests->markitdown==0.0.1a1) (1.26.16)\n",
      "Requirement already satisfied: certifi>=2017.4.17 in /Users/hsiangjenli/miniconda3/lib/python3.11/site-packages (from requests->markitdown==0.0.1a1) (2023.7.22)\n",
      "Requirement already satisfied: typing-extensions in /Users/hsiangjenli/miniconda3/lib/python3.11/site-packages (from speechrecognition->markitdown==0.0.1a1) (4.8.0)\n",
      "Requirement already satisfied: defusedxml<0.8.0,>=0.7.1 in /Users/hsiangjenli/miniconda3/lib/python3.11/site-packages (from youtube-transcript-api->markitdown==0.0.1a1) (0.7.1)\n",
      "Requirement already satisfied: cffi>=1.12 in /Users/hsiangjenli/miniconda3/lib/python3.11/site-packages (from cryptography>=36.0.0->pdfminer-six->markitdown==0.0.1a1) (1.15.1)\n",
      "Requirement already satisfied: pycparser in /Users/hsiangjenli/miniconda3/lib/python3.11/site-packages (from cffi>=1.12->cryptography>=36.0.0->pdfminer-six->markitdown==0.0.1a1) (2.21)\n",
      "Downloading mammoth-1.8.0-py2.py3-none-any.whl (52 kB)\n",
      "\u001b[2K   \u001b[90m━━━━━━━━━━━━━━━━━━━━━━━━━━━━━━━━━━━━━━━━\u001b[0m \u001b[32m52.3/52.3 kB\u001b[0m \u001b[31m1.4 MB/s\u001b[0m eta \u001b[36m0:00:00\u001b[0m\n",
      "\u001b[?25hDownloading markdownify-0.14.1-py3-none-any.whl (11 kB)\n",
      "Downloading pathvalidate-3.2.1-py3-none-any.whl (23 kB)\n",
      "Downloading puremagic-1.28-py3-none-any.whl (43 kB)\n",
      "\u001b[2K   \u001b[90m━━━━━━━━━━━━━━━━━━━━━━━━━━━━━━━━━━━━━━━━\u001b[0m \u001b[32m43.2/43.2 kB\u001b[0m \u001b[31m2.4 MB/s\u001b[0m eta \u001b[36m0:00:00\u001b[0m\n",
      "\u001b[?25hDownloading pydub-0.25.1-py2.py3-none-any.whl (32 kB)\n",
      "Downloading SpeechRecognition-3.12.0-py3-none-any.whl (32.8 MB)\n",
      "\u001b[2K   \u001b[90m━━━━━━━━━━━━━━━━━━━━━━━━━━━━━━━━━━━━━━━━\u001b[0m \u001b[32m32.8/32.8 MB\u001b[0m \u001b[31m2.5 MB/s\u001b[0m eta \u001b[36m0:00:00\u001b[0m00:01\u001b[0m00:01\u001b[0m\n",
      "\u001b[?25hDownloading youtube_transcript_api-0.6.3-py3-none-any.whl (622 kB)\n",
      "\u001b[2K   \u001b[90m━━━━━━━━━━━━━━━━━━━━━━━━━━━━━━━━━━━━━━━━\u001b[0m \u001b[32m622.3/622.3 kB\u001b[0m \u001b[31m1.9 MB/s\u001b[0m eta \u001b[36m0:00:00\u001b[0ma \u001b[36m0:00:01\u001b[0m\n",
      "\u001b[?25hDownloading cobble-0.1.4-py3-none-any.whl (4.0 kB)\n",
      "Building wheels for collected packages: markitdown\n",
      "  Building wheel for markitdown (pyproject.toml) ... \u001b[?25ldone\n",
      "\u001b[?25h  Created wheel for markitdown: filename=markitdown-0.0.1a1-py3-none-any.whl size=13577 sha256=0dba51d1b533e0ffb13f2b8a1e7c3dccfc04445ef2995dd6dae3c325ef8e79aa\n",
      "  Stored in directory: /private/var/folders/lv/fz_bmnxn28jdz8y01sb5b1z00000gn/T/pip-ephem-wheel-cache-n92eqteu/wheels/92/e0/0d/64fe6f0a81efcf79ebdacc796894b3558014e2b1c8bacfc2a3\n",
      "Successfully built markitdown\n",
      "Installing collected packages: pydub, puremagic, speechrecognition, pathvalidate, cobble, youtube-transcript-api, markdownify, mammoth, markitdown\n",
      "Successfully installed cobble-0.1.4 mammoth-1.8.0 markdownify-0.14.1 markitdown-0.0.1a1 pathvalidate-3.2.1 puremagic-1.28 pydub-0.25.1 speechrecognition-3.12.0 youtube-transcript-api-0.6.3\n",
      "\n",
      "\u001b[1m[\u001b[0m\u001b[34;49mnotice\u001b[0m\u001b[1;39;49m]\u001b[0m\u001b[39;49m A new release of pip is available: \u001b[0m\u001b[31;49m23.3.1\u001b[0m\u001b[39;49m -> \u001b[0m\u001b[32;49m24.3.1\u001b[0m\n",
      "\u001b[1m[\u001b[0m\u001b[34;49mnotice\u001b[0m\u001b[1;39;49m]\u001b[0m\u001b[39;49m To update, run: \u001b[0m\u001b[32;49mpip install --upgrade pip\u001b[0m\n"
     ]
    }
   ],
   "source": [
    "!pip install git+https://github.com/microsoft/markitdown.git"
   ]
  },
  {
   "cell_type": "code",
   "execution_count": 2,
   "metadata": {},
   "outputs": [
    {
     "name": "stdout",
     "output_type": "stream",
     "text": [
      "\n",
      "\n",
      "**Test Document**\n",
      "\n",
      "Contextttttt!!!!!\n",
      "\n",
      "| Table | Meow | Goooooo | HaHa | AAAAAA |\n",
      "| --- | --- | --- | --- | --- |\n",
      "|  |  |  |  |  |\n",
      "|  |  |  |  |  |\n",
      "|  |  |  |  |  |\n",
      "|  |  |  |  |  |\n",
      "\n",
      "## This is title 2\n",
      "\n",
      "1. List\n",
      "2. List 2\n",
      "   1. AAAAAA\n",
      "   2. BBBBBB\n",
      "\n",
      "This is shape\n",
      "\n",
      "\n"
     ]
    }
   ],
   "source": [
    "from markitdown import MarkItDown\n",
    "\n",
    "markitdown = MarkItDown()\n",
    "result = markitdown.convert(\"test_docx.docx\")\n",
    "print(result.text_content)"
   ]
  },
  {
   "cell_type": "code",
   "execution_count": 3,
   "metadata": {},
   "outputs": [
    {
     "name": "stdout",
     "output_type": "stream",
     "text": [
      "Test Document\n",
      "\n",
      "Contex’’’!!!!!\n",
      "\n",
      "Table\n",
      "\n",
      "Meow\n",
      "\n",
      "Goooooo\n",
      "\n",
      "HaHa\n",
      "\n",
      "AAAAAA\n",
      "\n",
      "This is &tle 2\n",
      "\n",
      "1.  List\n",
      "2.  List 2\n",
      "\n",
      "a.  AAAAAA\n",
      "b.  BBBBBB\n",
      "\n",
      "This is shape\n",
      "\n",
      "\n"
     ]
    }
   ],
   "source": [
    "from markitdown import MarkItDown\n",
    "\n",
    "markitdown = MarkItDown()\n",
    "result = markitdown.convert(\"test_docx.pdf\")\n",
    "print(result.text_content)"
   ]
  }
 ],
 "metadata": {
  "kernelspec": {
   "display_name": "base",
   "language": "python",
   "name": "python3"
  },
  "language_info": {
   "codemirror_mode": {
    "name": "ipython",
    "version": 3
   },
   "file_extension": ".py",
   "mimetype": "text/x-python",
   "name": "python",
   "nbconvert_exporter": "python",
   "pygments_lexer": "ipython3",
   "version": "3.11.4"
  }
 },
 "nbformat": 4,
 "nbformat_minor": 2
}
