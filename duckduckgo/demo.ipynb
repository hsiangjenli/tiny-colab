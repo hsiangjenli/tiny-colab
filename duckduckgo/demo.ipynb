{
 "cells": [
  {
   "cell_type": "code",
   "execution_count": 1,
   "metadata": {},
   "outputs": [
    {
     "name": "stdout",
     "output_type": "stream",
     "text": [
      "Requirement already satisfied: duckduckgo_search==7.5.5 in /Users/hsiangjenli/miniconda3/lib/python3.11/site-packages (7.5.5)\n",
      "Requirement already satisfied: click>=8.1.8 in /Users/hsiangjenli/miniconda3/lib/python3.11/site-packages (from duckduckgo_search==7.5.5) (8.1.8)\n",
      "Requirement already satisfied: primp>=0.14.0 in /Users/hsiangjenli/miniconda3/lib/python3.11/site-packages (from duckduckgo_search==7.5.5) (0.14.0)\n",
      "Requirement already satisfied: lxml>=5.3.0 in /Users/hsiangjenli/miniconda3/lib/python3.11/site-packages (from duckduckgo_search==7.5.5) (5.3.1)\n",
      "\n",
      "\u001b[1m[\u001b[0m\u001b[34;49mnotice\u001b[0m\u001b[1;39;49m]\u001b[0m\u001b[39;49m A new release of pip is available: \u001b[0m\u001b[31;49m23.3.1\u001b[0m\u001b[39;49m -> \u001b[0m\u001b[32;49m25.0.1\u001b[0m\n",
      "\u001b[1m[\u001b[0m\u001b[34;49mnotice\u001b[0m\u001b[1;39;49m]\u001b[0m\u001b[39;49m To update, run: \u001b[0m\u001b[32;49mpip install --upgrade pip\u001b[0m\n"
     ]
    }
   ],
   "source": [
    "!pip install duckduckgo_search==7.5.5"
   ]
  },
  {
   "cell_type": "code",
   "execution_count": 2,
   "metadata": {},
   "outputs": [
    {
     "name": "stdout",
     "output_type": "stream",
     "text": [
      "2025-03-31T05:32:00+00:00\n",
      "上海商銀與Clearstream合作 完成其在台第一筆三方債券附條件買回交易\n",
      "近期國際保管銀行-明訊銀行Clearstream發布資訊表示，上海商銀（5876）與Clearstream合作，透過Clearstream作為三方債券附條件交易中介機構（Tri-party Agent），協同澳盛銀行（ANZ），完成Clearstream在台灣第一筆三方債券附條件交易（Tri-party Repo）。\n",
      "https://udn.com/news/story/7239/8643665\n",
      "\n",
      "2025-03-31T07:40:00+00:00\n",
      "上海商銀與Clearstream合作完成其於台灣第一筆三方債券附條件買回交易\n",
      "近期國際保管銀行「明訊銀行Clearstream」發布資訊表示，上海商業儲蓄銀行與Clearstream合作，透過Clearstream作為三方債券附條件交易中介機構 (Tri-party Agent)，協同澳盛銀行 (ANZ)，完成Clearstream在台灣第一筆三方債券附條件交易 (Tri-party Repo)。\n",
      "https://www.ctee.com.tw/news/20250331701151-430304\n",
      "\n",
      "2024-11-22T12:38:00+00:00\n",
      "上海商銀獲利衰退逾3成，配得出1.8元股息嗎？法說會一句話解惑\n",
      "包含今年在內，上海商銀連續8年全數配發現金股利，且最近3年的股息金額都是1.8元。投資人好奇，上海商銀會不會因為獲利衰退，明年現金股利 ...\n",
      "https://www.msn.com/zh-tw/news/national/上海商銀獲利衰退逾3成-配得出1-8元股息嗎-法說會一句話解惑/ar-AA1uySNI\n",
      "\n",
      "2023-06-18T19:39:00+00:00\n",
      "〈投資理財〉台灣「上海商銀」傳奇故事多 經營穩健值得注意\n",
      "上海商銀（5876）這家百年老店，能夠在風狂雨驟環境下，毫髮無傷，穩健成長，令人嘖嘖稱奇，值得投資人注意。 國內不少以長期穩定收息為重的法人，如保險公司、勞保基金，在財務運用上 ...\n",
      "https://www.taiwannews.com.tw/zh/news/4922317\n",
      "\n",
      "2025-03-31T09:09:00+00:00\n",
      "三方債券附買回 上海商銀攜手Clearstream寫歷史\n",
      "債券附買回的（簡稱Repo或RP）交易與管理有更便利的途徑。上海商業儲蓄銀行今（31）日發布新聞稿指出，該行與澳盛銀行（ANZ）的債券附買回交易，在歐洲知名保管銀行Clearstream（明訊銀行）協助下，已經完成Clearstream在台灣的第一筆三方債券附條件交易（Tri-p\n",
      "https://www.msn.com/zh-tw/news/other/三方債券附買回-上海商銀攜手clearstream寫歷史/ar-AA1BZrAN\n",
      "\n",
      "2025-03-31T05:08:00+00:00\n",
      "上海商銀與 Clearstream 完成三方債券附條件買回交易\n",
      "近期國際保管銀行-明訊銀行Clearstream發布資訊表示，上海商業儲蓄銀行與Clearstream合作，透過Clearstream作為三方債券附條件交易中介機構 (Tri-party Agent)，協同澳盛銀行 (ANZ)，完成Clearstream在台灣第一筆三方債券附條件交易 (Tri-party Repo) 。\n",
      "https://money.udn.com/money/story/5618/8643604\n",
      "\n",
      "2024-06-18T05:56:00+00:00\n",
      "籌劃8年砸35億總行大樓啟用 上海商銀：邁向新里程碑\n",
      "（中央社記者羅元駿台北18日電）百年老銀行、上海商銀斥資新台幣35億元的總行大樓今天落成啟用，董事長李慶言表示，總行大樓歷經8年規劃 ...\n",
      "https://www.msn.com/zh-tw/money/topstories/籌劃8年砸35億總行大樓啟用-上海商銀-邁向新里程碑/ar-BB1opUXu\n",
      "\n",
      "2025-03-28T10:29:00+00:00\n",
      "金管會同意上海商銀轉投資柬埔寨 AMK 申請改制商銀\n",
      "金管會28日發布新聞稿，同意上海商銀 （5876） 持有99.99%股權的子公司AMK Microfinance Institution Plc. (AMK)向柬埔寨主管機關申請改制為商業銀行。 金管會新聞稿指出，AMK是柬埔寨四家可吸收存款的微型金融機構之一，主要提供鄉村地區客戶及微型、小型企業存放款、匯款相關金融服務，目前於柬埔寨境內有營業據點147家，員工人數3,632人，服務客戶人數超過80萬人，營業據點涵蓋柬埔寨25個省份及城市。上海商銀申請AMK未來改制為商銀後，將可提升對單一客戶吸收存款及提供放款金額，並增加營業項目，有助AMK未來業務拓展，符合上海商銀自2018年投資AMK的目的及規畫，強化其對東南亞市場布局，並配合金管會新南向政策。\n",
      "https://money.udn.com/money/story/5613/8639187\n",
      "\n",
      "2025-03-20T20:10:00+00:00\n",
      "上海商銀 助攻碳盤查\n",
      "上海商銀與成功大學產學合作共同開發「碳排簡易分析工具」系統平台，免費提供企業輕鬆計算碳排放量、了解自家碳排放及提供產業減碳技術指引，該系統計算方法經SGS認證，讓碳盤查更準確。\n",
      "https://www.chinatimes.com/newspapers/20250321000454-260210?chdtv\n",
      "\n",
      "2025-03-21T17:03:00+00:00\n",
      "上海商銀:董事會決議股利分派\n",
      "公司名稱：上海商銀 發言日期：2025/03/21 發言時間：17:03:17 發言人：呂紹宇 (2)法定盈餘公積發放之現金(元/股)：0 (3)資本公積發放之現金(元/股)：0 (4 ...\n",
      "https://news.cnyes.com/news/id/5908647\n",
      "\n"
     ]
    }
   ],
   "source": [
    "from duckduckgo_search import DDGS\n",
    "\n",
    "results = DDGS().news(keywords=\"上海商銀\", region=\"tw-tzh\", max_results=10)\n",
    "for result in results:\n",
    "    # print(result.keys()) \n",
    "    print(result['date'])\n",
    "    print(result['title'])\n",
    "    print(result['body'])\n",
    "    print(result['url'])\n",
    "    print()"
   ]
  },
  {
   "cell_type": "code",
   "execution_count": 3,
   "metadata": {},
   "outputs": [
    {
     "data": {
      "text/plain": [
       "dict_keys(['date', 'title', 'body', 'url', 'image', 'source'])"
      ]
     },
     "execution_count": 3,
     "metadata": {},
     "output_type": "execute_result"
    }
   ],
   "source": [
    "result.keys()"
   ]
  }
 ],
 "metadata": {
  "kernelspec": {
   "display_name": "base",
   "language": "python",
   "name": "python3"
  },
  "language_info": {
   "codemirror_mode": {
    "name": "ipython",
    "version": 3
   },
   "file_extension": ".py",
   "mimetype": "text/x-python",
   "name": "python",
   "nbconvert_exporter": "python",
   "pygments_lexer": "ipython3",
   "version": "3.11.4"
  }
 },
 "nbformat": 4,
 "nbformat_minor": 2
}
